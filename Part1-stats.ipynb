{
 "cells": [
  {
   "cell_type": "markdown",
   "metadata": {},
   "source": [
    "#### Central Tendency\n",
    "Mean\n",
    "Median\n",
    "Mode\n",
    "Skewness\n",
    "Normal Distribution"
   ]
  },
  {
   "cell_type": "code",
   "execution_count": null,
   "metadata": {},
   "outputs": [],
   "source": [
    "#central tendency:  one value for representing the whole data \n",
    "\n",
    "#mean  ==> average, (sum/len)\n",
    "## 1,3,-5,6,7,3,5,30,9,2\n",
    "#mean = 6.1\n",
    "#disadvantages: outliers impact is more, advantage: general \n",
    "\n",
    "#median\n",
    "## 1,3,-5,6,7,3,5,30,9,2\n",
    "# -5, 1,2,3,3,5,6,7,9,30\n",
    "\n",
    "#even ===> average of middle values after sorting\n",
    "#odd ===> middle value after sorting\n",
    "\n",
    "#4.0\n",
    "\n",
    "#median will be good if outliers are there.\n",
    "#duplicates\n",
    "\n",
    "#mode frequently occurring value\n",
    "\n",
    "# -5, 1,2,3,3,5,6,7,9,30\n",
    "\n",
    "#3\n",
    "\n",
    "#Difference:\n",
    "\n",
    "#5,0,-5,10,-10\n",
    "\n",
    "#-2,0,2,-1,1\n",
    "\n",
    "#middle value + range / variance\n",
    "\n",
    "\n",
    "#standard deviation\n",
    "#variance\n",
    "\n",
    "#var = std * std \n",
    "\n",
    "#https://www.calculator.net/standard-deviation-calculator.html\n"
   ]
  }
 ],
 "metadata": {
  "kernelspec": {
   "display_name": "Python 3",
   "language": "python",
   "name": "python3"
  },
  "language_info": {
   "codemirror_mode": {
    "name": "ipython",
    "version": 3
   },
   "file_extension": ".py",
   "mimetype": "text/x-python",
   "name": "python",
   "nbconvert_exporter": "python",
   "pygments_lexer": "ipython3",
   "version": "3.7.6"
  }
 },
 "nbformat": 4,
 "nbformat_minor": 4
}
